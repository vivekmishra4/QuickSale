{
 "cells": [
  {
   "cell_type": "code",
   "execution_count": 3,
   "id": "dfebdd8f-d7ca-486b-8705-a654ec776233",
   "metadata": {},
   "outputs": [],
   "source": [
    "import joblib\n",
    "Present_Price=1000\n",
    "Kms_Driven=30000\n",
    "Car_Age=15\n",
    "Fuel_Type_Diesel=1\n",
    "Fuel_Type_Petrol=0\n",
    "Transmission_Manual=1\n",
    "model = joblib.load('linear_regression_resell_value_predictor.pkl')\n",
    "input_data = [Present_Price, Kms_Driven,Car_Age, Fuel_Type_Diesel,Fuel_Type_Petrol, Transmission_Manual]\n",
    "prediction = model.predict([input_data])"
   ]
  },
  {
   "cell_type": "code",
   "execution_count": 4,
   "id": "6104c99a-41b8-4e06-b2ba-d2d7950daccf",
   "metadata": {},
   "outputs": [
    {
     "data": {
      "text/plain": [
       "array([541.90266774])"
      ]
     },
     "execution_count": 4,
     "metadata": {},
     "output_type": "execute_result"
    }
   ],
   "source": [
    "prediction"
   ]
  },
  {
   "cell_type": "code",
   "execution_count": 2,
   "id": "3f262fdc-6477-46bb-a80c-e1edc8c7b307",
   "metadata": {},
   "outputs": [],
   "source": [
    "import warnings\n",
    "warnings.filterwarnings('ignore')"
   ]
  },
  {
   "cell_type": "code",
   "execution_count": null,
   "id": "72015f04-3e2b-4aef-81b4-1a5c11366305",
   "metadata": {},
   "outputs": [],
   "source": []
  }
 ],
 "metadata": {
  "kernelspec": {
   "display_name": "Python 3 (ipykernel)",
   "language": "python",
   "name": "python3"
  },
  "language_info": {
   "codemirror_mode": {
    "name": "ipython",
    "version": 3
   },
   "file_extension": ".py",
   "mimetype": "text/x-python",
   "name": "python",
   "nbconvert_exporter": "python",
   "pygments_lexer": "ipython3",
   "version": "3.11.0"
  }
 },
 "nbformat": 4,
 "nbformat_minor": 5
}
